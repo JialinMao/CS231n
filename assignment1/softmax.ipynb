{
 "cells": [
  {
   "cell_type": "markdown",
   "metadata": {},
   "source": [
    "# Softmax exercise\n",
    "\n",
    "*Complete and hand in this completed worksheet (including its outputs and any supporting code outside of the worksheet) with your assignment submission. For more details see the [assignments page](http://vision.stanford.edu/teaching/cs231n/assignments.html) on the course website.*\n",
    "\n",
    "This exercise is analogous to the SVM exercise. You will:\n",
    "\n",
    "- implement a fully-vectorized **loss function** for the Softmax classifier\n",
    "- implement the fully-vectorized expression for its **analytic gradient**\n",
    "- **check your implementation** with numerical gradient\n",
    "- use a validation set to **tune the learning rate and regularization** strength\n",
    "- **optimize** the loss function with **SGD**\n",
    "- **visualize** the final learned weights\n"
   ]
  },
  {
   "cell_type": "code",
   "execution_count": 2,
   "metadata": {
    "collapsed": false
   },
   "outputs": [],
   "source": [
    "import random\n",
    "import numpy as np\n",
    "from cs231n.data_utils import load_CIFAR10\n",
    "import matplotlib.pyplot as plt\n",
    "%matplotlib inline\n",
    "plt.rcParams['figure.figsize'] = (10.0, 8.0) # set default size of plots\n",
    "plt.rcParams['image.interpolation'] = 'nearest'\n",
    "plt.rcParams['image.cmap'] = 'gray'\n",
    "\n",
    "# for auto-reloading extenrnal modules\n",
    "# see http://stackoverflow.com/questions/1907993/autoreload-of-modules-in-ipython\n",
    "%load_ext autoreload\n",
    "%autoreload 2"
   ]
  },
  {
   "cell_type": "code",
   "execution_count": 3,
   "metadata": {
    "collapsed": false
   },
   "outputs": [
    {
     "name": "stdout",
     "output_type": "stream",
     "text": [
      "Train data shape:  (49000, 3073)\n",
      "Train labels shape:  (49000,)\n",
      "Validation data shape:  (1000, 3073)\n",
      "Validation labels shape:  (1000,)\n",
      "Test data shape:  (1000, 3073)\n",
      "Test labels shape:  (1000,)\n",
      "dev data shape:  (500, 3073)\n",
      "dev labels shape:  (500,)\n"
     ]
    }
   ],
   "source": [
    "def get_CIFAR10_data(num_training=49000, num_validation=1000, num_test=1000, num_dev=500):\n",
    "  \"\"\"\n",
    "  Load the CIFAR-10 dataset from disk and perform preprocessing to prepare\n",
    "  it for the linear classifier. These are the same steps as we used for the\n",
    "  SVM, but condensed to a single function.  \n",
    "  \"\"\"\n",
    "  # Load the raw CIFAR-10 data\n",
    "  cifar10_dir = 'cs231n/datasets/cifar-10-batches-py'\n",
    "  X_train, y_train, X_test, y_test = load_CIFAR10(cifar10_dir)\n",
    "  \n",
    "  # subsample the data\n",
    "  mask = range(num_training, num_training + num_validation)\n",
    "  X_val = X_train[mask]\n",
    "  y_val = y_train[mask]\n",
    "  mask = range(num_training)\n",
    "  X_train = X_train[mask]\n",
    "  y_train = y_train[mask]\n",
    "  mask = range(num_test)\n",
    "  X_test = X_test[mask]\n",
    "  y_test = y_test[mask]\n",
    "  mask = np.random.choice(num_training, num_dev, replace=False)\n",
    "  X_dev = X_train[mask]\n",
    "  y_dev = y_train[mask]\n",
    "  \n",
    "  # Preprocessing: reshape the image data into rows\n",
    "  X_train = np.reshape(X_train, (X_train.shape[0], -1))\n",
    "  X_val = np.reshape(X_val, (X_val.shape[0], -1))\n",
    "  X_test = np.reshape(X_test, (X_test.shape[0], -1))\n",
    "  X_dev = np.reshape(X_dev, (X_dev.shape[0], -1))\n",
    "  \n",
    "  # Normalize the data: subtract the mean image\n",
    "  mean_image = np.mean(X_train, axis = 0)\n",
    "  X_train -= mean_image\n",
    "  X_val -= mean_image\n",
    "  X_test -= mean_image\n",
    "  X_dev -= mean_image\n",
    "  \n",
    "  # add bias dimension and transform into columns\n",
    "  X_train = np.hstack([X_train, np.ones((X_train.shape[0], 1))])\n",
    "  X_val = np.hstack([X_val, np.ones((X_val.shape[0], 1))])\n",
    "  X_test = np.hstack([X_test, np.ones((X_test.shape[0], 1))])\n",
    "  X_dev = np.hstack([X_dev, np.ones((X_dev.shape[0], 1))])\n",
    "  \n",
    "  return X_train, y_train, X_val, y_val, X_test, y_test, X_dev, y_dev\n",
    "\n",
    "\n",
    "# Invoke the above function to get our data.\n",
    "X_train, y_train, X_val, y_val, X_test, y_test, X_dev, y_dev = get_CIFAR10_data()\n",
    "print 'Train data shape: ', X_train.shape\n",
    "print 'Train labels shape: ', y_train.shape\n",
    "print 'Validation data shape: ', X_val.shape\n",
    "print 'Validation labels shape: ', y_val.shape\n",
    "print 'Test data shape: ', X_test.shape\n",
    "print 'Test labels shape: ', y_test.shape\n",
    "print 'dev data shape: ', X_dev.shape\n",
    "print 'dev labels shape: ', y_dev.shape"
   ]
  },
  {
   "cell_type": "markdown",
   "metadata": {},
   "source": [
    "## Softmax Classifier\n",
    "\n",
    "Your code for this section will all be written inside **cs231n/classifiers/softmax.py**. \n"
   ]
  },
  {
   "cell_type": "code",
   "execution_count": 4,
   "metadata": {
    "collapsed": false
   },
   "outputs": [
    {
     "name": "stdout",
     "output_type": "stream",
     "text": [
      "loss: 2.374785\n",
      "sanity check: 2.302585\n"
     ]
    }
   ],
   "source": [
    "# First implement the naive softmax loss function with nested loops.\n",
    "# Open the file cs231n/classifiers/softmax.py and implement the\n",
    "# softmax_loss_naive function.\n",
    "\n",
    "from cs231n.classifiers.softmax import softmax_loss_naive\n",
    "import time\n",
    "\n",
    "# Generate a random softmax weight matrix and use it to compute the loss.\n",
    "W = np.random.randn(3073, 10) * 0.0001\n",
    "loss, grad = softmax_loss_naive(W, X_dev, y_dev, 0.0)\n",
    "\n",
    "# As a rough sanity check, our loss should be something close to -log(0.1).\n",
    "print 'loss: %f' % loss\n",
    "print 'sanity check: %f' % (-np.log(0.1))"
   ]
  },
  {
   "cell_type": "markdown",
   "metadata": {},
   "source": [
    "## Inline Question 1:\n",
    "Why do we expect our loss to be close to -log(0.1)? Explain briefly.**\n",
    "\n",
    "**Your answer:** *Fill this in*\n"
   ]
  },
  {
   "cell_type": "code",
   "execution_count": 5,
   "metadata": {
    "collapsed": false
   },
   "outputs": [
    {
     "name": "stdout",
     "output_type": "stream",
     "text": [
      "numerical: 2.630174 analytic: 2.630174, relative error: 9.248480e-09\n",
      "numerical: 4.775841 analytic: 4.775841, relative error: 1.321273e-08\n",
      "numerical: 1.647876 analytic: 1.647876, relative error: 1.484421e-08\n",
      "numerical: -0.200201 analytic: -0.200201, relative error: 7.438436e-08\n",
      "numerical: -3.573537 analytic: -3.573537, relative error: 1.132678e-09\n",
      "numerical: 1.733100 analytic: 1.733100, relative error: 4.247792e-08\n",
      "numerical: 0.805779 analytic: 0.805779, relative error: 6.916654e-08\n",
      "numerical: 1.633655 analytic: 1.633655, relative error: 7.717931e-09\n",
      "numerical: 0.446075 analytic: 0.446075, relative error: 7.045414e-08\n",
      "numerical: -1.184824 analytic: -1.184824, relative error: 5.088938e-09\n",
      "numerical: 2.963484 analytic: 2.963484, relative error: 1.837156e-08\n",
      "numerical: 1.504872 analytic: 1.504872, relative error: 1.790131e-09\n",
      "numerical: 3.573220 analytic: 3.573220, relative error: 9.118491e-09\n",
      "numerical: 2.932395 analytic: 2.932395, relative error: 1.339392e-08\n",
      "numerical: 3.239743 analytic: 3.239743, relative error: 8.689407e-09\n",
      "numerical: 2.983710 analytic: 2.983710, relative error: 1.740859e-08\n",
      "numerical: -1.478368 analytic: -1.478368, relative error: 1.794772e-08\n",
      "numerical: -0.400315 analytic: -0.400315, relative error: 3.405461e-08\n",
      "numerical: 2.357834 analytic: 2.357834, relative error: 2.486859e-08\n",
      "numerical: 1.404637 analytic: 1.404637, relative error: 4.814600e-08\n"
     ]
    }
   ],
   "source": [
    "# Complete the implementation of softmax_loss_naive and implement a (naive)\n",
    "# version of the gradient that uses nested loops.\n",
    "loss, grad = softmax_loss_naive(W, X_dev, y_dev, 0.0)\n",
    "\n",
    "# As we did for the SVM, use numeric gradient checking as a debugging tool.\n",
    "# The numeric gradient should be close to the analytic gradient.\n",
    "from cs231n.gradient_check import grad_check_sparse\n",
    "f = lambda w: softmax_loss_naive(w, X_dev, y_dev, 0.0)[0]\n",
    "grad_numerical = grad_check_sparse(f, W, grad, 10)\n",
    "\n",
    "# similar to SVM case, do another gradient check with regularization\n",
    "loss, grad = softmax_loss_naive(W, X_dev, y_dev, 1e2)\n",
    "f = lambda w: softmax_loss_naive(w, X_dev, y_dev, 1e2)[0]\n",
    "grad_numerical = grad_check_sparse(f, W, grad, 10)"
   ]
  },
  {
   "cell_type": "code",
   "execution_count": 6,
   "metadata": {
    "collapsed": false
   },
   "outputs": [
    {
     "name": "stdout",
     "output_type": "stream",
     "text": [
      "naive loss: 2.374785e+00 computed in 0.240886s\n",
      "vectorized loss: 2.374785e+00 computed in 0.343995s\n",
      "Loss difference: 0.000000\n",
      "Gradient difference: 0.000000\n"
     ]
    }
   ],
   "source": [
    "# Now that we have a naive implementation of the softmax loss function and its gradient,\n",
    "# implement a vectorized version in softmax_loss_vectorized.\n",
    "# The two versions should compute the same results, but the vectorized version should be\n",
    "# much faster.\n",
    "tic = time.time()\n",
    "loss_naive, grad_naive = softmax_loss_naive(W, X_dev, y_dev, 0.00001)\n",
    "toc = time.time()\n",
    "print 'naive loss: %e computed in %fs' % (loss_naive, toc - tic)\n",
    "\n",
    "from cs231n.classifiers.softmax import softmax_loss_vectorized\n",
    "tic = time.time()\n",
    "loss_vectorized, grad_vectorized = softmax_loss_vectorized(W, X_dev, y_dev, 0.00001)\n",
    "toc = time.time()\n",
    "print 'vectorized loss: %e computed in %fs' % (loss_vectorized, toc - tic)\n",
    "\n",
    "# As we did for the SVM, we use the Frobenius norm to compare the two versions\n",
    "# of the gradient.\n",
    "grad_difference = np.linalg.norm(grad_naive - grad_vectorized, ord='fro')\n",
    "print 'Loss difference: %f' % np.abs(loss_naive - loss_vectorized)\n",
    "print 'Gradient difference: %f' % grad_difference"
   ]
  },
  {
   "cell_type": "code",
   "execution_count": 7,
   "metadata": {
    "collapsed": false
   },
   "outputs": [
    {
     "name": "stdout",
     "output_type": "stream",
     "text": [
      "iteration 0 / 1500: loss 13.284021\n",
      "iteration 100 / 1500: loss 11.707072\n",
      "iteration 200 / 1500: loss 11.304293\n",
      "iteration 300 / 1500: loss 10.695429\n",
      "iteration 400 / 1500: loss 10.569750\n",
      "iteration 500 / 1500: loss 10.422060\n",
      "iteration 600 / 1500: loss 10.319446\n",
      "iteration 700 / 1500: loss 10.000509\n",
      "iteration 800 / 1500: loss 9.459933\n",
      "iteration 900 / 1500: loss 9.816858\n",
      "iteration 1000 / 1500: loss 9.721928\n",
      "iteration 1100 / 1500: loss 9.636672\n",
      "iteration 1200 / 1500: loss 9.551937\n",
      "iteration 1300 / 1500: loss 9.224553\n",
      "iteration 1400 / 1500: loss 9.063145\n",
      "iteration 0 / 1500: loss 48.070451\n",
      "iteration 100 / 1500: loss 44.166667\n",
      "iteration 200 / 1500: loss 41.440845\n",
      "iteration 300 / 1500: loss 39.264798\n",
      "iteration 400 / 1500: loss 37.066371\n",
      "iteration 500 / 1500: loss 34.960176\n",
      "iteration 600 / 1500: loss 32.971317\n",
      "iteration 700 / 1500: loss 31.531626\n",
      "iteration 800 / 1500: loss 29.870136\n",
      "iteration 900 / 1500: loss 28.265649\n",
      "iteration 1000 / 1500: loss 26.634336\n",
      "iteration 1100 / 1500: loss 25.323434\n",
      "iteration 1200 / 1500: loss 24.174087\n",
      "iteration 1300 / 1500: loss 22.702322\n",
      "iteration 1400 / 1500: loss 21.549017\n",
      "iteration 0 / 1500: loss 81.039409\n",
      "iteration 100 / 1500: loss 72.474277\n",
      "iteration 200 / 1500: loss 64.999258\n",
      "iteration 300 / 1500: loss 59.166244\n",
      "iteration 400 / 1500: loss 53.500179\n",
      "iteration 500 / 1500: loss 48.348979\n",
      "iteration 600 / 1500: loss 43.839724\n",
      "iteration 700 / 1500: loss 39.624781\n",
      "iteration 800 / 1500: loss 36.161631\n",
      "iteration 900 / 1500: loss 32.761950\n",
      "iteration 1000 / 1500: loss 29.724960\n",
      "iteration 1100 / 1500: loss 27.054242\n",
      "iteration 1200 / 1500: loss 24.626440\n",
      "iteration 1300 / 1500: loss 22.358409\n",
      "iteration 1400 / 1500: loss 20.558742\n",
      "iteration 0 / 1500: loss 13.103025\n",
      "iteration 100 / 1500: loss 10.387158\n",
      "iteration 200 / 1500: loss 9.375974\n",
      "iteration 300 / 1500: loss 9.187855\n",
      "iteration 400 / 1500: loss 8.503864\n",
      "iteration 500 / 1500: loss 8.191475\n",
      "iteration 600 / 1500: loss 7.802113\n",
      "iteration 700 / 1500: loss 7.596568\n",
      "iteration 800 / 1500: loss 7.021423\n",
      "iteration 900 / 1500: loss 6.805408\n",
      "iteration 1000 / 1500: loss 6.574399\n",
      "iteration 1100 / 1500: loss 6.279511\n",
      "iteration 1200 / 1500: loss 5.921143\n",
      "iteration 1300 / 1500: loss 5.609470\n",
      "iteration 1400 / 1500: loss 5.470111\n",
      "iteration 0 / 1500: loss 48.409270\n",
      "iteration 100 / 1500: loss 34.840677\n",
      "iteration 200 / 1500: loss 26.478122\n",
      "iteration 300 / 1500: loss 20.331816\n",
      "iteration 400 / 1500: loss 15.868779\n",
      "iteration 500 / 1500: loss 12.405438\n",
      "iteration 600 / 1500: loss 9.782642\n",
      "iteration 700 / 1500: loss 7.954177\n",
      "iteration 800 / 1500: loss 6.318079\n",
      "iteration 900 / 1500: loss 5.348878\n",
      "iteration 1000 / 1500: loss 4.387648\n",
      "iteration 1100 / 1500: loss 3.827744\n",
      "iteration 1200 / 1500: loss 3.270053\n",
      "iteration 1300 / 1500: loss 3.003770\n",
      "iteration 1400 / 1500: loss 2.666502\n",
      "iteration 0 / 1500: loss 83.213034\n",
      "iteration 100 / 1500: loss 49.216903\n",
      "iteration 200 / 1500: loss 30.319961\n",
      "iteration 300 / 1500: loss 18.995594\n",
      "iteration 400 / 1500: loss 12.217850\n",
      "iteration 500 / 1500: loss 8.010406\n",
      "iteration 600 / 1500: loss 5.571837\n",
      "iteration 700 / 1500: loss 4.184492\n",
      "iteration 800 / 1500: loss 3.228799\n",
      "iteration 900 / 1500: loss 2.716861\n",
      "iteration 1000 / 1500: loss 2.327032\n",
      "iteration 1100 / 1500: loss 2.117031\n",
      "iteration 1200 / 1500: loss 2.170391\n",
      "iteration 1300 / 1500: loss 2.065270\n",
      "iteration 1400 / 1500: loss 1.943248\n",
      "iteration 0 / 1500: loss 14.563786\n",
      "iteration 100 / 1500: loss 9.629645\n",
      "iteration 200 / 1500: loss 8.871774\n",
      "iteration 300 / 1500: loss 7.835588\n",
      "iteration 400 / 1500: loss 7.324273\n",
      "iteration 500 / 1500: loss 6.601559\n",
      "iteration 600 / 1500: loss 6.247144\n",
      "iteration 700 / 1500: loss 5.917078\n",
      "iteration 800 / 1500: loss 5.471029\n",
      "iteration 900 / 1500: loss 5.156518\n",
      "iteration 1000 / 1500: loss 4.797362\n",
      "iteration 1100 / 1500: loss 4.549688\n",
      "iteration 1200 / 1500: loss 4.169931\n",
      "iteration 1300 / 1500: loss 3.995236\n",
      "iteration 1400 / 1500: loss 3.773686\n",
      "iteration 0 / 1500: loss 48.195027\n",
      "iteration 100 / 1500: loss 28.360926\n",
      "iteration 200 / 1500: loss 17.522369\n",
      "iteration 300 / 1500: loss 11.273265\n",
      "iteration 400 / 1500: loss 7.649878\n",
      "iteration 500 / 1500: loss 5.376042\n",
      "iteration 600 / 1500: loss 3.963349\n",
      "iteration 700 / 1500: loss 3.070379\n",
      "iteration 800 / 1500: loss 2.756334\n",
      "iteration 900 / 1500: loss 2.348002\n",
      "iteration 1000 / 1500: loss 2.127733\n",
      "iteration 1100 / 1500: loss 1.956286\n",
      "iteration 1200 / 1500: loss 1.993733\n",
      "iteration 1300 / 1500: loss 1.942398\n",
      "iteration 1400 / 1500: loss 1.813457\n",
      "iteration 0 / 1500: loss 83.275504\n",
      "iteration 100 / 1500: loss 33.273936\n",
      "iteration 200 / 1500: loss 14.379487\n",
      "iteration 300 / 1500: loss 6.936872\n",
      "iteration 400 / 1500: loss 3.866199\n",
      "iteration 500 / 1500: loss 2.608272\n",
      "iteration 600 / 1500: loss 2.154100\n",
      "iteration 700 / 1500: loss 2.044240\n",
      "iteration 800 / 1500: loss 2.020511\n",
      "iteration 900 / 1500: loss 1.920448\n",
      "iteration 1000 / 1500: loss 1.849395\n",
      "iteration 1100 / 1500: loss 1.912031\n",
      "iteration 1200 / 1500: loss 1.836125\n",
      "iteration 1300 / 1500: loss 1.923310\n",
      "iteration 1400 / 1500: loss 1.762007\n",
      "lr 1.000000e-07 reg 5.000000e+02 train accuracy: 0.252531 val accuracy: 0.260000\n",
      "lr 1.000000e-07 reg 2.750000e+03 train accuracy: 0.268980 val accuracy: 0.274000\n",
      "lr 1.000000e-07 reg 5.000000e+03 train accuracy: 0.298959 val accuracy: 0.308000\n",
      "lr 5.000000e-07 reg 5.000000e+02 train accuracy: 0.342286 val accuracy: 0.349000\n",
      "lr 5.000000e-07 reg 2.750000e+03 train accuracy: 0.388959 val accuracy: 0.385000\n",
      "lr 5.000000e-07 reg 5.000000e+03 train accuracy: 0.386143 val accuracy: 0.395000\n",
      "lr 9.000000e-07 reg 5.000000e+02 train accuracy: 0.378000 val accuracy: 0.368000\n",
      "lr 9.000000e-07 reg 2.750000e+03 train accuracy: 0.399143 val accuracy: 0.401000\n",
      "lr 9.000000e-07 reg 5.000000e+03 train accuracy: 0.383490 val accuracy: 0.393000\n",
      "best validation accuracy achieved during cross-validation: 0.401000\n"
     ]
    }
   ],
   "source": [
    "# Use the validation set to tune hyperparameters (regularization strength and\n",
    "# learning rate). You should experiment with different ranges for the learning\n",
    "# rates and regularization strengths; if you are careful you should be able to\n",
    "# get a classification accuracy of over 0.35 on the validation set.\n",
    "from cs231n.classifiers import Softmax\n",
    "results = {}\n",
    "best_val = -1\n",
    "best_softmax = None\n",
    "learning_rates = np.linspace(1e-7, 9e-7, 3)\n",
    "regularization_strengths = np.linspace(5e2, 5e3, 3)\n",
    "\n",
    "################################################################################\n",
    "# TODO:                                                                        #\n",
    "# Use the validation set to set the learning rate and regularization strength. #\n",
    "# This should be identical to the validation that you did for the SVM; save    #\n",
    "# the best trained softmax classifer in best_softmax.                          #\n",
    "################################################################################\n",
    "for lr in learning_rates:\n",
    "    for reg in regularization_strengths:\n",
    "        softmax = Softmax()\n",
    "        softmax.train(X_train, y_train, learning_rate=lr, reg=reg, num_iters=1500, verbose=True)\n",
    "        y_train_pred = softmax.predict(X_train)\n",
    "        training_accuracy = np.mean(y_train == y_train_pred)\n",
    "        y_val_pred = softmax.predict(X_val)\n",
    "        validation_accuracy = np.mean(y_val == y_val_pred)\n",
    "        results[(lr,reg)]=(training_accuracy, validation_accuracy)\n",
    "        if validation_accuracy > best_val:\n",
    "            best_val = validation_accuracy\n",
    "            best_softmax = softmax\n",
    "################################################################################\n",
    "#                              END OF YOUR CODE                                #\n",
    "################################################################################\n",
    "    \n",
    "# Print out results.\n",
    "for lr, reg in sorted(results):\n",
    "    train_accuracy, val_accuracy = results[(lr, reg)]\n",
    "    print 'lr %e reg %e train accuracy: %f val accuracy: %f' % (\n",
    "                lr, reg, train_accuracy, val_accuracy)\n",
    "    \n",
    "print 'best validation accuracy achieved during cross-validation: %f' % best_val"
   ]
  },
  {
   "cell_type": "code",
   "execution_count": 9,
   "metadata": {
    "collapsed": false
   },
   "outputs": [
    {
     "name": "stdout",
     "output_type": "stream",
     "text": [
      "softmax on raw pixels final test set accuracy: 0.387000\n"
     ]
    }
   ],
   "source": [
    "# evaluate on test set\n",
    "# Evaluate the best softmax on test set\n",
    "y_test_pred = best_softmax.predict(X_test)\n",
    "test_accuracy = np.mean(y_test == y_test_pred)\n",
    "print 'softmax on raw pixels final test set accuracy: %f' % (test_accuracy, )"
   ]
  },
  {
   "cell_type": "code",
   "execution_count": 10,
   "metadata": {
    "collapsed": false
   },
   "outputs": [
    {
     "data": {
      "image/png": "[encoded data removed]",
      "text/plain": [
       "<matplotlib.figure.Figure at 0x108d8ce90>"
      ]
     },
     "metadata": {},
     "output_type": "display_data"
    }
   ],
   "source": [
    "# Visualize the learned weights for each class\n",
    "w = best_softmax.W[:-1,:] # strip out the bias\n",
    "w = w.reshape(32, 32, 3, 10)\n",
    "\n",
    "w_min, w_max = np.min(w), np.max(w)\n",
    "\n",
    "classes = ['plane', 'car', 'bird', 'cat', 'deer', 'dog', 'frog', 'horse', 'ship', 'truck']\n",
    "for i in xrange(10):\n",
    "  plt.subplot(2, 5, i + 1)\n",
    "  \n",
    "  # Rescale the weights to be between 0 and 255\n",
    "  wimg = 255.0 * (w[:, :, :, i].squeeze() - w_min) / (w_max - w_min)\n",
    "  plt.imshow(wimg.astype('uint8'))\n",
    "  plt.axis('off')\n",
    "  plt.title(classes[i])"
   ]
  },
  {
   "cell_type": "code",
   "execution_count": null,
   "metadata": {
    "collapsed": true
   },
   "outputs": [],
   "source": []
  }
 ],
 "metadata": {
  "kernelspec": {
   "display_name": "Python 2",
   "language": "python",
   "name": "python2"
  },
  "language_info": {
   "codemirror_mode": {
    "name": "ipython",
    "version": 2
   },
   "file_extension": ".py",
   "mimetype": "text/x-python",
   "name": "python",
   "nbconvert_exporter": "python",
   "pygments_lexer": "ipython2",
   "version": "2.7.11"
  }
 },
 "nbformat": 4,
 "nbformat_minor": 0
}
